{
 "cells": [
  {
   "cell_type": "code",
   "execution_count": 1,
   "id": "f203e003",
   "metadata": {},
   "outputs": [],
   "source": [
    "import pandas as pd\n",
    "import numpy as np\n",
    "import matplotlib.pyplot as plt\n",
    "train_data=pd.read_csv(\"LOG_REG_TRAIN.csv\")\n",
    "test_data=pd.read_csv(\"LOG_TEST.csv\")"
   ]
  },
  {
   "cell_type": "code",
   "execution_count": 2,
   "id": "fe2f867b",
   "metadata": {},
   "outputs": [
    {
     "data": {
      "text/html": [
       "<div>\n",
       "<style scoped>\n",
       "    .dataframe tbody tr th:only-of-type {\n",
       "        vertical-align: middle;\n",
       "    }\n",
       "\n",
       "    .dataframe tbody tr th {\n",
       "        vertical-align: top;\n",
       "    }\n",
       "\n",
       "    .dataframe thead th {\n",
       "        text-align: right;\n",
       "    }\n",
       "</style>\n",
       "<table border=\"1\" class=\"dataframe\">\n",
       "  <thead>\n",
       "    <tr style=\"text-align: right;\">\n",
       "      <th></th>\n",
       "      <th>Survived</th>\n",
       "      <th>Pclass</th>\n",
       "      <th>Name</th>\n",
       "      <th>Sex</th>\n",
       "      <th>Age</th>\n",
       "      <th>Siblings/Spouses Aboard</th>\n",
       "      <th>Parents/Children Aboard</th>\n",
       "      <th>Fare</th>\n",
       "    </tr>\n",
       "  </thead>\n",
       "  <tbody>\n",
       "    <tr>\n",
       "      <th>0</th>\n",
       "      <td>0</td>\n",
       "      <td>3</td>\n",
       "      <td>Mr. Owen Harris Braund</td>\n",
       "      <td>male</td>\n",
       "      <td>22.0</td>\n",
       "      <td>1</td>\n",
       "      <td>0</td>\n",
       "      <td>7.2500</td>\n",
       "    </tr>\n",
       "    <tr>\n",
       "      <th>1</th>\n",
       "      <td>1</td>\n",
       "      <td>1</td>\n",
       "      <td>Mrs. John Bradley (Florence Briggs Thayer) Cum...</td>\n",
       "      <td>female</td>\n",
       "      <td>38.0</td>\n",
       "      <td>1</td>\n",
       "      <td>0</td>\n",
       "      <td>71.2833</td>\n",
       "    </tr>\n",
       "    <tr>\n",
       "      <th>2</th>\n",
       "      <td>1</td>\n",
       "      <td>3</td>\n",
       "      <td>Miss. Laina Heikkinen</td>\n",
       "      <td>female</td>\n",
       "      <td>26.0</td>\n",
       "      <td>0</td>\n",
       "      <td>0</td>\n",
       "      <td>7.9250</td>\n",
       "    </tr>\n",
       "    <tr>\n",
       "      <th>3</th>\n",
       "      <td>1</td>\n",
       "      <td>1</td>\n",
       "      <td>Mrs. Jacques Heath (Lily May Peel) Futrelle</td>\n",
       "      <td>female</td>\n",
       "      <td>35.0</td>\n",
       "      <td>1</td>\n",
       "      <td>0</td>\n",
       "      <td>53.1000</td>\n",
       "    </tr>\n",
       "    <tr>\n",
       "      <th>4</th>\n",
       "      <td>0</td>\n",
       "      <td>3</td>\n",
       "      <td>Mr. William Henry Allen</td>\n",
       "      <td>male</td>\n",
       "      <td>35.0</td>\n",
       "      <td>0</td>\n",
       "      <td>0</td>\n",
       "      <td>8.0500</td>\n",
       "    </tr>\n",
       "  </tbody>\n",
       "</table>\n",
       "</div>"
      ],
      "text/plain": [
       "   Survived  Pclass                                               Name  \\\n",
       "0         0       3                             Mr. Owen Harris Braund   \n",
       "1         1       1  Mrs. John Bradley (Florence Briggs Thayer) Cum...   \n",
       "2         1       3                              Miss. Laina Heikkinen   \n",
       "3         1       1        Mrs. Jacques Heath (Lily May Peel) Futrelle   \n",
       "4         0       3                            Mr. William Henry Allen   \n",
       "\n",
       "      Sex   Age  Siblings/Spouses Aboard  Parents/Children Aboard     Fare  \n",
       "0    male  22.0                        1                        0   7.2500  \n",
       "1  female  38.0                        1                        0  71.2833  \n",
       "2  female  26.0                        0                        0   7.9250  \n",
       "3  female  35.0                        1                        0  53.1000  \n",
       "4    male  35.0                        0                        0   8.0500  "
      ]
     },
     "execution_count": 2,
     "metadata": {},
     "output_type": "execute_result"
    }
   ],
   "source": [
    "train_data.head()"
   ]
  },
  {
   "cell_type": "markdown",
   "id": "41366762",
   "metadata": {},
   "source": [
    "## Let's have a look at the data first"
   ]
  },
  {
   "cell_type": "code",
   "execution_count": 3,
   "id": "831c8de1",
   "metadata": {},
   "outputs": [
    {
     "data": {
      "text/html": [
       "<div>\n",
       "<style scoped>\n",
       "    .dataframe tbody tr th:only-of-type {\n",
       "        vertical-align: middle;\n",
       "    }\n",
       "\n",
       "    .dataframe tbody tr th {\n",
       "        vertical-align: top;\n",
       "    }\n",
       "\n",
       "    .dataframe thead th {\n",
       "        text-align: right;\n",
       "    }\n",
       "</style>\n",
       "<table border=\"1\" class=\"dataframe\">\n",
       "  <thead>\n",
       "    <tr style=\"text-align: right;\">\n",
       "      <th></th>\n",
       "      <th>Survived</th>\n",
       "      <th>Pclass</th>\n",
       "      <th>Age</th>\n",
       "      <th>Siblings/Spouses Aboard</th>\n",
       "      <th>Parents/Children Aboard</th>\n",
       "      <th>Fare</th>\n",
       "    </tr>\n",
       "  </thead>\n",
       "  <tbody>\n",
       "    <tr>\n",
       "      <th>count</th>\n",
       "      <td>577.000000</td>\n",
       "      <td>577.000000</td>\n",
       "      <td>577.000000</td>\n",
       "      <td>577.000000</td>\n",
       "      <td>577.000000</td>\n",
       "      <td>577.000000</td>\n",
       "    </tr>\n",
       "    <tr>\n",
       "      <th>mean</th>\n",
       "      <td>0.396880</td>\n",
       "      <td>2.310225</td>\n",
       "      <td>29.336222</td>\n",
       "      <td>0.547660</td>\n",
       "      <td>0.376083</td>\n",
       "      <td>31.942309</td>\n",
       "    </tr>\n",
       "    <tr>\n",
       "      <th>std</th>\n",
       "      <td>0.489675</td>\n",
       "      <td>0.834863</td>\n",
       "      <td>14.208585</td>\n",
       "      <td>1.114098</td>\n",
       "      <td>0.778832</td>\n",
       "      <td>46.816156</td>\n",
       "    </tr>\n",
       "    <tr>\n",
       "      <th>min</th>\n",
       "      <td>0.000000</td>\n",
       "      <td>1.000000</td>\n",
       "      <td>0.750000</td>\n",
       "      <td>0.000000</td>\n",
       "      <td>0.000000</td>\n",
       "      <td>0.000000</td>\n",
       "    </tr>\n",
       "    <tr>\n",
       "      <th>25%</th>\n",
       "      <td>0.000000</td>\n",
       "      <td>2.000000</td>\n",
       "      <td>21.000000</td>\n",
       "      <td>0.000000</td>\n",
       "      <td>0.000000</td>\n",
       "      <td>7.925000</td>\n",
       "    </tr>\n",
       "    <tr>\n",
       "      <th>50%</th>\n",
       "      <td>0.000000</td>\n",
       "      <td>3.000000</td>\n",
       "      <td>28.000000</td>\n",
       "      <td>0.000000</td>\n",
       "      <td>0.000000</td>\n",
       "      <td>14.500000</td>\n",
       "    </tr>\n",
       "    <tr>\n",
       "      <th>75%</th>\n",
       "      <td>1.000000</td>\n",
       "      <td>3.000000</td>\n",
       "      <td>37.000000</td>\n",
       "      <td>1.000000</td>\n",
       "      <td>0.000000</td>\n",
       "      <td>30.500000</td>\n",
       "    </tr>\n",
       "    <tr>\n",
       "      <th>max</th>\n",
       "      <td>1.000000</td>\n",
       "      <td>3.000000</td>\n",
       "      <td>71.000000</td>\n",
       "      <td>8.000000</td>\n",
       "      <td>5.000000</td>\n",
       "      <td>512.329200</td>\n",
       "    </tr>\n",
       "  </tbody>\n",
       "</table>\n",
       "</div>"
      ],
      "text/plain": [
       "         Survived      Pclass         Age  Siblings/Spouses Aboard  \\\n",
       "count  577.000000  577.000000  577.000000               577.000000   \n",
       "mean     0.396880    2.310225   29.336222                 0.547660   \n",
       "std      0.489675    0.834863   14.208585                 1.114098   \n",
       "min      0.000000    1.000000    0.750000                 0.000000   \n",
       "25%      0.000000    2.000000   21.000000                 0.000000   \n",
       "50%      0.000000    3.000000   28.000000                 0.000000   \n",
       "75%      1.000000    3.000000   37.000000                 1.000000   \n",
       "max      1.000000    3.000000   71.000000                 8.000000   \n",
       "\n",
       "       Parents/Children Aboard        Fare  \n",
       "count               577.000000  577.000000  \n",
       "mean                  0.376083   31.942309  \n",
       "std                   0.778832   46.816156  \n",
       "min                   0.000000    0.000000  \n",
       "25%                   0.000000    7.925000  \n",
       "50%                   0.000000   14.500000  \n",
       "75%                   0.000000   30.500000  \n",
       "max                   5.000000  512.329200  "
      ]
     },
     "execution_count": 3,
     "metadata": {},
     "output_type": "execute_result"
    }
   ],
   "source": [
    "train_data.describe()"
   ]
  },
  {
   "cell_type": "markdown",
   "id": "e4614516",
   "metadata": {},
   "source": [
    "### From the data given, we know that \"Survived\" class is the thing that we need to predict but we also know, that not all the other columns would be contributing to that <br>\n",
    "\n",
    "### For instance, Although \"Pclass(Passenger class)\" Plays an important role in deciding the survival rate, \"Fare\" Doesn't. Also, \"Sex\" also plays an important role but it is in a different dtype"
   ]
  },
  {
   "cell_type": "code",
   "execution_count": 3,
   "id": "355cc0f4",
   "metadata": {},
   "outputs": [
    {
     "data": {
      "text/plain": [
       "dtype('O')"
      ]
     },
     "execution_count": 3,
     "metadata": {},
     "output_type": "execute_result"
    }
   ],
   "source": [
    "train_data[\"Sex\"].dtype #Shows Object and is in str format, we need to convert it into integer"
   ]
  },
  {
   "cell_type": "code",
   "execution_count": 5,
   "id": "e616af83",
   "metadata": {},
   "outputs": [],
   "source": [
    "#Simple enough, we can represent males as 0, females as 1, I am not sure if representing them by any \n",
    "#other number makes a difference but we will see.\n",
    "train_data[\"Sex\"]=(train_data[\"Sex\"].replace(\"female\",1)).replace(\"male\",0)"
   ]
  },
  {
   "cell_type": "markdown",
   "id": "1d707397",
   "metadata": {},
   "source": [
    "#### So everything except \"Fare\" ,\"Survived\" and \"Name\" seems appropriate for our training data\n"
   ]
  },
  {
   "cell_type": "code",
   "execution_count": 104,
   "id": "50e7bb62",
   "metadata": {},
   "outputs": [],
   "source": [
    "X_train=train_data.drop([\"Survived\",\"Fare\",\"Name\"],axis=1)\n",
    "Y_train=train_data[\"Survived\"]"
   ]
  },
  {
   "cell_type": "code",
   "execution_count": 105,
   "id": "5ef2d7af",
   "metadata": {},
   "outputs": [],
   "source": [
    "def Normalize(data):\n",
    "    return (data-data.mean())/data.std()"
   ]
  },
  {
   "cell_type": "code",
   "execution_count": 214,
   "id": "2c5f6df0",
   "metadata": {},
   "outputs": [],
   "source": [
    "X_train_norm=Normalize(X_train)\n",
    "Y_train_norm=Normalize(Y_train)\n",
    "#Let's add a column of Ones to account for the bias term\n",
    "X_train_norm.insert(0,\"Ones\",np.ones(len(X_train)))"
   ]
  },
  {
   "cell_type": "code",
   "execution_count": 107,
   "id": "8ce7d849",
   "metadata": {},
   "outputs": [],
   "source": [
    "#Activation function\n",
    "def sigmoid(z):\n",
    "    return 1/(1+np.exp(-z))\n",
    "#So what the sigmoid function does is take whatever the output was and map in the range(0,1), which \n",
    "#very crucial in case of Logistic Regression, as it allows our final result be interpreted as a \n",
    "#probability\n",
    "\n",
    "def log_loss(y_pred,y_true):\n",
    "    return -np.mean(y_true*np.log(y_pred)+(1-y_true)*np.log(1-y_pred))"
   ]
  },
  {
   "cell_type": "code",
   "execution_count": 229,
   "id": "65367e59",
   "metadata": {},
   "outputs": [],
   "source": [
    "def Logistic_Reg(X,Y,epochs,lr):\n",
    "    num_samples,num_features=X.shape\n",
    "    weights=np.random.randn(num_features)\n",
    "    for epoch in range(epochs):\n",
    "        z=X@weights\n",
    "        act=sigmoid(z)\n",
    "        loss=log_loss(act,Y_train)\n",
    "        gradients=((act-Y_train)@X) * (1.0/num_samples)\n",
    "        weights-=lr*gradients\n",
    "    return weights    \n",
    "\n",
    "def accuracy(Y_pred,Y_true):\n",
    "    return sum(Y_pred==Y_true)/len(Y_true)\n",
    "\n",
    "weights=Logistic_Reg(X_train_norm,Y_train_norm,10000,0.01)"
   ]
  },
  {
   "cell_type": "code",
   "execution_count": 233,
   "id": "ef2a95ff",
   "metadata": {},
   "outputs": [],
   "source": [
    "preds=sigmoid(X_train_norm@weights)"
   ]
  },
  {
   "cell_type": "code",
   "execution_count": 234,
   "id": "51dd0d91",
   "metadata": {},
   "outputs": [],
   "source": [
    "preds[preds>=0.5]=1\n",
    "preds[preds<0.5]=0"
   ]
  },
  {
   "cell_type": "code",
   "execution_count": 235,
   "id": "ff135ee8",
   "metadata": {},
   "outputs": [
    {
     "data": {
      "text/plain": [
       "0.7902946273830156"
      ]
     },
     "execution_count": 235,
     "metadata": {},
     "output_type": "execute_result"
    }
   ],
   "source": [
    "accuracy(preds,Y_train)"
   ]
  },
  {
   "cell_type": "code",
   "execution_count": 236,
   "id": "1580432b",
   "metadata": {},
   "outputs": [
    {
     "data": {
      "text/html": [
       "<div>\n",
       "<style scoped>\n",
       "    .dataframe tbody tr th:only-of-type {\n",
       "        vertical-align: middle;\n",
       "    }\n",
       "\n",
       "    .dataframe tbody tr th {\n",
       "        vertical-align: top;\n",
       "    }\n",
       "\n",
       "    .dataframe thead th {\n",
       "        text-align: right;\n",
       "    }\n",
       "</style>\n",
       "<table border=\"1\" class=\"dataframe\">\n",
       "  <thead>\n",
       "    <tr style=\"text-align: right;\">\n",
       "      <th></th>\n",
       "      <th>Survived</th>\n",
       "      <th>Pclass</th>\n",
       "      <th>Name</th>\n",
       "      <th>Sex</th>\n",
       "      <th>Age</th>\n",
       "      <th>Siblings/Spouses Aboard</th>\n",
       "      <th>Parents/Children Aboard</th>\n",
       "      <th>Fare</th>\n",
       "    </tr>\n",
       "  </thead>\n",
       "  <tbody>\n",
       "    <tr>\n",
       "      <th>0</th>\n",
       "      <td>1</td>\n",
       "      <td>2</td>\n",
       "      <td>Miss. Julie Rachel Christy</td>\n",
       "      <td>female</td>\n",
       "      <td>25.0</td>\n",
       "      <td>1</td>\n",
       "      <td>1</td>\n",
       "      <td>30.0000</td>\n",
       "    </tr>\n",
       "    <tr>\n",
       "      <th>1</th>\n",
       "      <td>1</td>\n",
       "      <td>1</td>\n",
       "      <td>Mrs. John Borland (Marian Longstreth Morris) T...</td>\n",
       "      <td>female</td>\n",
       "      <td>39.0</td>\n",
       "      <td>1</td>\n",
       "      <td>1</td>\n",
       "      <td>110.8833</td>\n",
       "    </tr>\n",
       "    <tr>\n",
       "      <th>2</th>\n",
       "      <td>0</td>\n",
       "      <td>2</td>\n",
       "      <td>Mr. William James Downton</td>\n",
       "      <td>male</td>\n",
       "      <td>54.0</td>\n",
       "      <td>0</td>\n",
       "      <td>0</td>\n",
       "      <td>26.0000</td>\n",
       "    </tr>\n",
       "    <tr>\n",
       "      <th>3</th>\n",
       "      <td>0</td>\n",
       "      <td>1</td>\n",
       "      <td>Mr. John Hugo Ross</td>\n",
       "      <td>male</td>\n",
       "      <td>36.0</td>\n",
       "      <td>0</td>\n",
       "      <td>0</td>\n",
       "      <td>40.1250</td>\n",
       "    </tr>\n",
       "    <tr>\n",
       "      <th>4</th>\n",
       "      <td>0</td>\n",
       "      <td>3</td>\n",
       "      <td>Mr. Uscher Paulner</td>\n",
       "      <td>male</td>\n",
       "      <td>16.0</td>\n",
       "      <td>0</td>\n",
       "      <td>0</td>\n",
       "      <td>8.7125</td>\n",
       "    </tr>\n",
       "  </tbody>\n",
       "</table>\n",
       "</div>"
      ],
      "text/plain": [
       "   Survived  Pclass                                               Name  \\\n",
       "0         1       2                         Miss. Julie Rachel Christy   \n",
       "1         1       1  Mrs. John Borland (Marian Longstreth Morris) T...   \n",
       "2         0       2                          Mr. William James Downton   \n",
       "3         0       1                                 Mr. John Hugo Ross   \n",
       "4         0       3                                 Mr. Uscher Paulner   \n",
       "\n",
       "      Sex   Age  Siblings/Spouses Aboard  Parents/Children Aboard      Fare  \n",
       "0  female  25.0                        1                        1   30.0000  \n",
       "1  female  39.0                        1                        1  110.8833  \n",
       "2    male  54.0                        0                        0   26.0000  \n",
       "3    male  36.0                        0                        0   40.1250  \n",
       "4    male  16.0                        0                        0    8.7125  "
      ]
     },
     "execution_count": 236,
     "metadata": {},
     "output_type": "execute_result"
    }
   ],
   "source": [
    "test_data.head()"
   ]
  },
  {
   "cell_type": "code",
   "execution_count": 239,
   "id": "0fd0ea6f",
   "metadata": {},
   "outputs": [],
   "source": [
    "test_data[\"Sex\"]=(test_data[\"Sex\"].replace(\"female\",1)).replace(\"male\",0)"
   ]
  },
  {
   "cell_type": "code",
   "execution_count": 240,
   "id": "1d880a4f",
   "metadata": {},
   "outputs": [],
   "source": [
    "X_test=test_data.drop([\"Survived\",\"Fare\",\"Name\"],axis=1)\n",
    "Y_test=test_data[\"Survived\"]"
   ]
  },
  {
   "cell_type": "code",
   "execution_count": 243,
   "id": "604c83e6",
   "metadata": {},
   "outputs": [],
   "source": [
    "X_test_norm=Normalize(X_test)\n",
    "X_test_norm.insert(0,\"Ones\",np.ones(len(X_test)))"
   ]
  },
  {
   "cell_type": "code",
   "execution_count": 244,
   "id": "70e58fff",
   "metadata": {},
   "outputs": [],
   "source": [
    "test_preds=sigmoid(X_test_norm@weights)\n",
    "test_preds[test_preds>=0.5]=1.0\n",
    "test_preds[test_preds<0.5]=0.0"
   ]
  },
  {
   "cell_type": "code",
   "execution_count": 245,
   "id": "05678827",
   "metadata": {},
   "outputs": [
    {
     "data": {
      "text/plain": [
       "0.8032258064516129"
      ]
     },
     "execution_count": 245,
     "metadata": {},
     "output_type": "execute_result"
    }
   ],
   "source": [
    "accuracy(test_preds,Y_test)"
   ]
  }
 ],
 "metadata": {
  "kernelspec": {
   "display_name": "Python 3 (ipykernel)",
   "language": "python",
   "name": "python3"
  },
  "language_info": {
   "codemirror_mode": {
    "name": "ipython",
    "version": 3
   },
   "file_extension": ".py",
   "mimetype": "text/x-python",
   "name": "python",
   "nbconvert_exporter": "python",
   "pygments_lexer": "ipython3",
   "version": "3.8.10"
  }
 },
 "nbformat": 4,
 "nbformat_minor": 5
}
